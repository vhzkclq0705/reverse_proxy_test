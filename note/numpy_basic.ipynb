{
 "cells": [
  {
   "cell_type": "code",
   "execution_count": 1,
   "id": "76ed26fa-e876-4568-9e53-83730d1115db",
   "metadata": {},
   "outputs": [],
   "source": [
    "import numpy as np\n",
    "import matplotlib.pyplot as plt"
   ]
  },
  {
   "cell_type": "code",
   "execution_count": 2,
   "id": "d2a1f454-b047-4272-8e50-0bbabe9e3436",
   "metadata": {},
   "outputs": [],
   "source": [
    "arr = np.array([1, 2, 3, 4, 5])"
   ]
  },
  {
   "cell_type": "code",
   "execution_count": 3,
   "id": "7d3fa8fd-8159-47d3-b06a-d29130cee635",
   "metadata": {},
   "outputs": [
    {
     "data": {
      "text/plain": [
       "numpy.ndarray"
      ]
     },
     "execution_count": 3,
     "metadata": {},
     "output_type": "execute_result"
    }
   ],
   "source": [
    "type(arr)"
   ]
  },
  {
   "cell_type": "code",
   "execution_count": 4,
   "id": "97505d65-9107-4024-a96b-4ab14caf609a",
   "metadata": {},
   "outputs": [
    {
     "data": {
      "text/plain": [
       "[1, 2, 3, 4, 5]"
      ]
     },
     "execution_count": 4,
     "metadata": {},
     "output_type": "execute_result"
    }
   ],
   "source": [
    "arr.tolist()"
   ]
  },
  {
   "cell_type": "code",
   "execution_count": 5,
   "id": "8c3da5f3-d5e5-4a2a-a5e2-3b51ecaccd27",
   "metadata": {},
   "outputs": [
    {
     "data": {
      "text/plain": [
       "array([1, 2, 3, 4, 5])"
      ]
     },
     "execution_count": 5,
     "metadata": {},
     "output_type": "execute_result"
    }
   ],
   "source": [
    "arr"
   ]
  },
  {
   "cell_type": "code",
   "execution_count": 6,
   "id": "8533f27c-f3bf-4476-af87-d972f3006f6b",
   "metadata": {},
   "outputs": [],
   "source": [
    "matrix = np.array([[1, 2, 3], [4, 5, 6], [7, 8, 9], [10, 11, 12]])"
   ]
  },
  {
   "cell_type": "code",
   "execution_count": 7,
   "id": "5bf0831c-cabf-4698-891e-93ecf8c91657",
   "metadata": {},
   "outputs": [
    {
     "data": {
      "text/plain": [
       "numpy.ndarray"
      ]
     },
     "execution_count": 7,
     "metadata": {},
     "output_type": "execute_result"
    }
   ],
   "source": [
    "type(matrix)"
   ]
  },
  {
   "cell_type": "code",
   "execution_count": 8,
   "id": "c1a5b41b-85ef-450e-8d6f-e73dae1132d4",
   "metadata": {},
   "outputs": [
    {
     "data": {
      "text/plain": [
       "(4, 3)"
      ]
     },
     "execution_count": 8,
     "metadata": {},
     "output_type": "execute_result"
    }
   ],
   "source": [
    "matrix.shape"
   ]
  },
  {
   "cell_type": "code",
   "execution_count": 9,
   "id": "5d15fc54-dd14-4594-925b-2b560db03ffa",
   "metadata": {},
   "outputs": [
    {
     "data": {
      "text/plain": [
       "12"
      ]
     },
     "execution_count": 9,
     "metadata": {},
     "output_type": "execute_result"
    }
   ],
   "source": [
    "matrix.size"
   ]
  },
  {
   "cell_type": "code",
   "execution_count": 10,
   "id": "8f910ed5-a138-4e24-9a6d-0b492f268f42",
   "metadata": {},
   "outputs": [
    {
     "data": {
      "text/plain": [
       "np.int64(1)"
      ]
     },
     "execution_count": 10,
     "metadata": {},
     "output_type": "execute_result"
    }
   ],
   "source": [
    "matrix[0, 0]"
   ]
  },
  {
   "cell_type": "code",
   "execution_count": 11,
   "id": "b9782bbe-9ef6-40b6-8853-5a193c937993",
   "metadata": {},
   "outputs": [
    {
     "data": {
      "text/plain": [
       "1"
      ]
     },
     "execution_count": 11,
     "metadata": {},
     "output_type": "execute_result"
    }
   ],
   "source": [
    "matrix[0, 0].item()"
   ]
  },
  {
   "cell_type": "code",
   "execution_count": 12,
   "id": "d81ee07f-e109-4676-8e2a-784902070f73",
   "metadata": {},
   "outputs": [],
   "source": [
    "tmp = np.array([1, 2.5, \"a\", \"abc\", False])"
   ]
  },
  {
   "cell_type": "code",
   "execution_count": 13,
   "id": "68904c98-2b4e-4cac-a181-b69b89824d3f",
   "metadata": {},
   "outputs": [
    {
     "data": {
      "text/plain": [
       "np.str_('1')"
      ]
     },
     "execution_count": 13,
     "metadata": {},
     "output_type": "execute_result"
    }
   ],
   "source": [
    "tmp[0]"
   ]
  },
  {
   "cell_type": "code",
   "execution_count": 14,
   "id": "45c2ede7-d3d9-4f3c-8bc2-c0f0baf95bbf",
   "metadata": {},
   "outputs": [
    {
     "data": {
      "text/plain": [
       "np.str_('2.5')"
      ]
     },
     "execution_count": 14,
     "metadata": {},
     "output_type": "execute_result"
    }
   ],
   "source": [
    "tmp[1]"
   ]
  },
  {
   "cell_type": "code",
   "execution_count": 15,
   "id": "5fd38b08-c7fb-4df5-805f-a3a3770c1ea4",
   "metadata": {},
   "outputs": [],
   "source": [
    "row, column = matrix.shape"
   ]
  },
  {
   "cell_type": "code",
   "execution_count": 16,
   "id": "43b94fcf-2332-4ed5-b7b7-278180aaed4e",
   "metadata": {},
   "outputs": [
    {
     "data": {
      "text/plain": [
       "4"
      ]
     },
     "execution_count": 16,
     "metadata": {},
     "output_type": "execute_result"
    }
   ],
   "source": [
    "row"
   ]
  },
  {
   "cell_type": "code",
   "execution_count": 17,
   "id": "01044f9c-0229-4027-a454-f5ad1a79ed9f",
   "metadata": {},
   "outputs": [
    {
     "data": {
      "text/plain": [
       "3"
      ]
     },
     "execution_count": 17,
     "metadata": {},
     "output_type": "execute_result"
    }
   ],
   "source": [
    "column"
   ]
  },
  {
   "cell_type": "code",
   "execution_count": 18,
   "id": "f8910bc5-fce4-4b55-8748-6474bf329e7d",
   "metadata": {},
   "outputs": [
    {
     "data": {
      "text/plain": [
       "2"
      ]
     },
     "execution_count": 18,
     "metadata": {},
     "output_type": "execute_result"
    }
   ],
   "source": [
    "matrix.ndim"
   ]
  },
  {
   "cell_type": "code",
   "execution_count": 19,
   "id": "d7bb65ff-4301-413c-a2c8-870b57dced6d",
   "metadata": {},
   "outputs": [
    {
     "data": {
      "text/plain": [
       "dtype('int64')"
      ]
     },
     "execution_count": 19,
     "metadata": {},
     "output_type": "execute_result"
    }
   ],
   "source": [
    "matrix.dtype"
   ]
  },
  {
   "cell_type": "code",
   "execution_count": 20,
   "id": "7a46a007-ce5f-4722-b09c-28f707214537",
   "metadata": {},
   "outputs": [],
   "source": [
    "arr_zeros = np.zeros(5, dtype=int)"
   ]
  },
  {
   "cell_type": "code",
   "execution_count": 21,
   "id": "eaae8674-195d-4693-b745-a0e0048337c9",
   "metadata": {},
   "outputs": [
    {
     "data": {
      "text/plain": [
       "array([0, 0, 0, 0, 0])"
      ]
     },
     "execution_count": 21,
     "metadata": {},
     "output_type": "execute_result"
    }
   ],
   "source": [
    "arr_zeros"
   ]
  },
  {
   "cell_type": "code",
   "execution_count": 22,
   "id": "8262f1e9-bbae-46b2-9b54-c5208e36c0c6",
   "metadata": {},
   "outputs": [
    {
     "data": {
      "text/plain": [
       "dtype('int64')"
      ]
     },
     "execution_count": 22,
     "metadata": {},
     "output_type": "execute_result"
    }
   ],
   "source": [
    "arr_zeros.dtype"
   ]
  },
  {
   "cell_type": "code",
   "execution_count": 23,
   "id": "dad13955-13ea-4a16-846a-f1e75696048a",
   "metadata": {},
   "outputs": [
    {
     "data": {
      "text/plain": [
       "array([1., 1., 1., 1., 1.])"
      ]
     },
     "execution_count": 23,
     "metadata": {},
     "output_type": "execute_result"
    }
   ],
   "source": [
    "arr_ones = np.ones(5)\n",
    "arr_ones"
   ]
  },
  {
   "cell_type": "code",
   "execution_count": 24,
   "id": "a6ec91eb-b6bd-4f0e-bb1e-da17c293246b",
   "metadata": {},
   "outputs": [
    {
     "data": {
      "text/plain": [
       "array([7, 7, 7, 7, 7])"
      ]
     },
     "execution_count": 24,
     "metadata": {},
     "output_type": "execute_result"
    }
   ],
   "source": [
    "arr_full = np.full(5, 7)\n",
    "arr_full"
   ]
  },
  {
   "cell_type": "code",
   "execution_count": 25,
   "id": "6ef622da-e8d0-42d3-a69b-48ab4f232403",
   "metadata": {},
   "outputs": [
    {
     "data": {
      "text/plain": [
       "array([8., 8., 8., 8., 8.])"
      ]
     },
     "execution_count": 25,
     "metadata": {},
     "output_type": "execute_result"
    }
   ],
   "source": [
    "p17 = arr_ones + arr_full\n",
    "p17"
   ]
  },
  {
   "cell_type": "code",
   "execution_count": 26,
   "id": "25352506-10ca-41db-8fa5-c4c3c0cd7f16",
   "metadata": {},
   "outputs": [
    {
     "data": {
      "text/plain": [
       "array([0., 0., 0., 0., 0.])"
      ]
     },
     "execution_count": 26,
     "metadata": {},
     "output_type": "execute_result"
    }
   ],
   "source": [
    "p17 * arr_zeros"
   ]
  },
  {
   "cell_type": "code",
   "execution_count": 27,
   "id": "14662d0b-2fac-4205-9f03-58c816cb1eb1",
   "metadata": {},
   "outputs": [
    {
     "data": {
      "text/plain": [
       "array([ 0,  2,  5,  7, 10])"
      ]
     },
     "execution_count": 27,
     "metadata": {},
     "output_type": "execute_result"
    }
   ],
   "source": [
    "np.linspace(0, 10, 5, dtype=int)"
   ]
  },
  {
   "cell_type": "code",
   "execution_count": 28,
   "id": "fbe4f341-b288-4079-99a0-6cd9bf066eb9",
   "metadata": {},
   "outputs": [
    {
     "data": {
      "text/plain": [
       "array([ 0,  1,  3,  5,  6,  8, 10])"
      ]
     },
     "execution_count": 28,
     "metadata": {},
     "output_type": "execute_result"
    }
   ],
   "source": [
    "np.linspace(0, 10, 7, dtype=int)"
   ]
  },
  {
   "cell_type": "code",
   "execution_count": 29,
   "id": "71acbd91-bf42-4e9e-bb0e-95527235db8e",
   "metadata": {},
   "outputs": [
    {
     "data": {
      "text/plain": [
       "array([ 0.        ,  1.66666667,  3.33333333,  5.        ,  6.66666667,\n",
       "        8.33333333, 10.        ])"
      ]
     },
     "execution_count": 29,
     "metadata": {},
     "output_type": "execute_result"
    }
   ],
   "source": [
    "np.linspace(0, 10, 7)"
   ]
  },
  {
   "cell_type": "markdown",
   "id": "31cfa26e-7b9a-44fa-b4ef-d55b1b500094",
   "metadata": {},
   "source": [
    "---\n",
    "# 정규 분포"
   ]
  },
  {
   "cell_type": "code",
   "execution_count": 30,
   "id": "03854390-35f0-43ee-815e-501d2bb0978a",
   "metadata": {},
   "outputs": [],
   "source": [
    "mean = 0 # 평균\n",
    "std_dev = 1 # 표준편차\n",
    "size = 1_000_000\n",
    "\n",
    "data = np.random.normal(loc=mean, scale=std_dev, size=size)"
   ]
  },
  {
   "cell_type": "code",
   "execution_count": 31,
   "id": "3af545b4-a1ca-4e3f-b72a-6f29fbff4088",
   "metadata": {},
   "outputs": [
    {
     "data": {
      "image/png": "[encoded data removed]",
      "text/plain": [
       "<Figure size 640x480 with 1 Axes>"
      ]
     },
     "metadata": {},
     "output_type": "display_data"
    }
   ],
   "source": [
    "plt.hist(data, bins=30, edgecolor='red', alpha=0.7)\n",
    "plt.title(\"N D\")\n",
    "plt.xlabel(\"V\")\n",
    "plt.show()"
   ]
  },
  {
   "cell_type": "markdown",
   "id": "d8c05885-5359-4ce7-bbd6-93a4adc6b0e2",
   "metadata": {},
   "source": [
    "## 균등 분포\n",
    "\n",
    "0-10 사이에 균등 분포를 갖는 1,000개의 샘플"
   ]
  },
  {
   "cell_type": "code",
   "execution_count": 32,
   "id": "0b30de0c-b0e5-4c45-ab8c-6bb2f0ab4323",
   "metadata": {},
   "outputs": [
    {
     "data": {
      "image/png": "[encoded data removed]",
      "text/plain": [
       "<Figure size 640x480 with 1 Axes>"
      ]
     },
     "metadata": {},
     "output_type": "display_data"
    }
   ],
   "source": [
    "data = np.random.uniform(0, 10, 100000)\n",
    "plt.hist(data, bins=100, edgecolor='black', alpha=0.7)\n",
    "plt.xlabel('Value')\n",
    "plt.ylabel('Frequency')\n",
    "plt.show()"
   ]
  },
  {
   "cell_type": "code",
   "execution_count": 33,
   "id": "70e78375-9b59-4946-b93d-687a51079ff6",
   "metadata": {},
   "outputs": [
    {
     "data": {
      "text/plain": [
       "np.float64(7.17114340431646e-05)"
      ]
     },
     "execution_count": 33,
     "metadata": {},
     "output_type": "execute_result"
    }
   ],
   "source": [
    "data.min()"
   ]
  },
  {
   "cell_type": "code",
   "execution_count": 34,
   "id": "6060e411-cfe2-4cf9-8fca-af67b316cb40",
   "metadata": {},
   "outputs": [
    {
     "data": {
      "text/plain": [
       "np.float64(9.999760676429512)"
      ]
     },
     "execution_count": 34,
     "metadata": {},
     "output_type": "execute_result"
    }
   ],
   "source": [
    "data.max()"
   ]
  },
  {
   "cell_type": "markdown",
   "id": "388d27ec-93e4-473f-a2f5-e35bef40df30",
   "metadata": {},
   "source": [
    "## 포아송분포"
   ]
  },
  {
   "cell_type": "code",
   "execution_count": 35,
   "id": "5c6fe785-c1de-498f-8b81-41228c84ada3",
   "metadata": {},
   "outputs": [
    {
     "data": {
      "image/png": "[encoded data removed]",
      "text/plain": [
       "<Figure size 640x480 with 1 Axes>"
      ]
     },
     "metadata": {},
     "output_type": "display_data"
    }
   ],
   "source": [
    "data = np.random.poisson(50, 10000)\n",
    "plt.hist(data, bins=100, edgecolor='black', alpha=0.7)\n",
    "plt.show()"
   ]
  },
  {
   "cell_type": "markdown",
   "id": "cb23a40c-b0b5-46af-839b-88664ebba5c3",
   "metadata": {},
   "source": [
    "---"
   ]
  },
  {
   "cell_type": "code",
   "execution_count": 36,
   "id": "165c32a8-b12c-4b5a-90d8-f30014f19488",
   "metadata": {},
   "outputs": [
    {
     "data": {
      "image/png": "[encoded data removed]",
      "text/plain": [
       "<Figure size 640x480 with 1 Axes>"
      ]
     },
     "metadata": {},
     "output_type": "display_data"
    }
   ],
   "source": [
    "data = np.random.randint(0, 100, 1000)\n",
    "plt.hist(data, bins=30, edgecolor='black', alpha=0.7)\n",
    "plt.show()"
   ]
  },
  {
   "cell_type": "code",
   "execution_count": 37,
   "id": "5a474214-e0f5-449e-ae83-197eba7e475a",
   "metadata": {},
   "outputs": [
    {
     "data": {
      "text/plain": [
       "array([0, 8, 4, 9, 7])"
      ]
     },
     "execution_count": 37,
     "metadata": {},
     "output_type": "execute_result"
    }
   ],
   "source": [
    "data = np.random.choice([1, 2, 3, 4, 5, 6, 7, 8, 9, 0], size=5, replace=False)\n",
    "data"
   ]
  },
  {
   "cell_type": "markdown",
   "id": "c14a04ea-43eb-48cf-ae18-d7f1620e83e5",
   "metadata": {},
   "source": [
    "---"
   ]
  },
  {
   "cell_type": "code",
   "execution_count": 38,
   "id": "d22409b5-6797-4210-92c3-9d30c1fa98ca",
   "metadata": {},
   "outputs": [],
   "source": [
    "import time\n",
    "import random"
   ]
  },
  {
   "cell_type": "code",
   "execution_count": 39,
   "id": "d407ef64-816d-403a-a98c-2dc111799159",
   "metadata": {},
   "outputs": [
    {
     "name": "stdout",
     "output_type": "stream",
     "text": [
      "0.2043778896331787\n"
     ]
    }
   ],
   "source": [
    "def ger_r_array_choices(N):\n",
    "    a = random.choices(range(101), k=N)\n",
    "    b = random.choices(range(101), k=N)\n",
    "    return a, b\n",
    "\n",
    "start_time = time.time()\n",
    "a, b = ger_r_array_choices(1_000_000)\n",
    "end_time = time.time()\n",
    "\n",
    "print(end_time - start_time)"
   ]
  },
  {
   "cell_type": "code",
   "execution_count": 40,
   "id": "97e75e3a-99ce-48cc-8127-1365fa4cd17e",
   "metadata": {},
   "outputs": [
    {
     "name": "stdout",
     "output_type": "stream",
     "text": [
      "0.023473739624023438\n"
     ]
    }
   ],
   "source": [
    "def ger_r_array_choices_np(N):\n",
    "    a = np.random.choice(range(101), N)\n",
    "    b = np.random.choice(range(101), N)\n",
    "    return a, b\n",
    "\n",
    "start_time = time.time()\n",
    "a, b = ger_r_array_choices_np(1_000_000)\n",
    "end_time = time.time()\n",
    "\n",
    "print(end_time - start_time)"
   ]
  },
  {
   "cell_type": "markdown",
   "id": "f9a2aaf6-6d34-4bea-924b-f1a56865ec4e",
   "metadata": {},
   "source": [
    "### python과 numpy 속도 비교 차트 그려보기\n",
    "\n",
    "linspace 1_000_000 까지 총 100번 구간을 찍어서 속도를 ㄹ인 그래프로 그려보기"
   ]
  },
  {
   "cell_type": "code",
   "execution_count": 44,
   "id": "2c8e05e9-6679-4c9c-b9a9-6d4f1c2ed3dc",
   "metadata": {},
   "outputs": [
    {
     "data": {
      "image/png": "[encoded data removed]",
      "text/plain": [
       "<Figure size 1000x600 with 1 Axes>"
      ]
     },
     "metadata": {},
     "output_type": "display_data"
    }
   ],
   "source": [
    "import numpy as np\n",
    "import random\n",
    "import time\n",
    "import matplotlib.pyplot as plt\n",
    "\n",
    "# NumPy 기반 함수\n",
    "def gen_r_array_choices_numpy(N):\n",
    "    a = np.random.choice(range(101), size=N)\n",
    "    b = np.random.choice(range(101), size=N)\n",
    "    return a, b\n",
    "\n",
    "def get_r_array_randint_numpy(N):\n",
    "    a = np.random.randint(0, 101, size=N)\n",
    "    b = np.random.randint(0, 101, size=N)\n",
    "    return a, b\n",
    "\n",
    "# Python random 기반 함수\n",
    "def gen_r_array_choices(N):\n",
    "    a = random.choices(range(101), k=N)\n",
    "    b = random.choices(range(101), k=N)\n",
    "    return a, b\n",
    "\n",
    "def get_r_array_randint(N):\n",
    "    a = [random.randint(0, 100) for _ in range(N)]\n",
    "    b = [random.randint(0, 100) for _ in range(N)]\n",
    "    return a, b\n",
    "\n",
    "# 실행 시간 측정 함수\n",
    "def measure_time(func, N):\n",
    "    result, cnt = 0, 10\n",
    "    for _ in range(cnt):\n",
    "        start = time.time()\n",
    "        func(N)\n",
    "        result += time.time() - start\n",
    "    return result / cnt\n",
    "\n",
    "# 테스트할 N 값 생성\n",
    "N_values = np.linspace(1, 1_000_000, 100, dtype=int)\n",
    "\n",
    "# 실행 시간 측정\n",
    "numpy_choices_times = [measure_time(gen_r_array_choices_numpy, N) for N in N_values]\n",
    "random_choices_times = [measure_time(gen_r_array_choices, N) for N in N_values]\n",
    "numpy_randint_times = [measure_time(get_r_array_randint_numpy, N) for N in N_values]\n",
    "random_randint_times = [measure_time(get_r_array_randint, N) for N in N_values]\n",
    "\n",
    "# 그래프 그리기\n",
    "plt.figure(figsize=(10, 6))\n",
    "plt.plot(N_values, numpy_choices_times, label='numpy_choices', color='blue')\n",
    "plt.plot(N_values, random_choices_times, label='random_choices', color='red')\n",
    "plt.plot(N_values, numpy_randint_times, label='numpy_randint', color='orange')\n",
    "plt.plot(N_values, random_randint_times, label='random_randint', color='green')\n",
    "\n",
    "plt.xlabel('Array Size')\n",
    "plt.ylabel('Time (seconds)')\n",
    "plt.title('Performance : numpy VS random')\n",
    "plt.legend()\n",
    "plt.grid(True)\n",
    "plt.show()"
   ]
  },
  {
   "cell_type": "code",
   "execution_count": null,
   "id": "d67c1fd8-1912-407b-8565-569572a547fb",
   "metadata": {},
   "outputs": [],
   "source": []
  }
 ],
 "metadata": {
  "kernelspec": {
   "display_name": "Python 3 (ipykernel)",
   "language": "python",
   "name": "python3"
  },
  "language_info": {
   "codemirror_mode": {
    "name": "ipython",
    "version": 3
   },
   "file_extension": ".py",
   "mimetype": "text/x-python",
   "name": "python",
   "nbconvert_exporter": "python",
   "pygments_lexer": "ipython3",
   "version": "3.10.12"
  }
 },
 "nbformat": 4,
 "nbformat_minor": 5
}
